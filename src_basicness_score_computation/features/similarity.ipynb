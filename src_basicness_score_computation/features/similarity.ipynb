{
 "cells": [
  {
   "cell_type": "markdown",
   "metadata": {},
   "source": [
    "# Utilities"
   ]
  },
  {
   "cell_type": "code",
   "execution_count": 1,
   "metadata": {},
   "outputs": [],
   "source": [
    "import nltk\n",
    "from nltk.corpus import wordnet\n",
    "import pandas as pd"
   ]
  },
  {
   "cell_type": "code",
   "execution_count": 2,
   "metadata": {},
   "outputs": [],
   "source": [
    "import sys\n",
    "sys.path.insert(0, '../')\n",
    "from commons_init import SYNSET_DA_EVITARE, SUPPORTED_POS"
   ]
  },
  {
   "cell_type": "markdown",
   "metadata": {},
   "source": [
    "## Calcolo della vicinanza LCH\n",
    "La similarità tra due synset, misurata tramite l'indice Leacock-Chodorow (LCH), influisce positivamente sulla valutazione della *basicness*. Maggiore è la similarità tra i synset, maggiore sarà il contributo alla basicness.\n",
    "\n",
    "In WordNet (WN), la vicinanza si basa sulla gerarchia dei synset. L'indice LCH misura la somiglianza tra due concetti in base alla lunghezza del percorso più breve che li separa nella gerarchia di WN.\n",
    "\n",
    "- LCH quantifica la vicinanza tra due concetti: valori più alti indicano una maggiore similarità, mentre valori più bassi indicano una minore similarità.\n",
    "- Per ogni synset, si calcola la distanza rispetto al synset di base per quella parte del discorso (POS) in WN.\n",
    "- Un valore LCH vicino a 1 indica una forte similarità tra il synset esaminato e il concetto di base, segnalando che il synset è considerato più *basic*.\n",
    "- Synset con un elevato punteggio di similarità LCH sono giudicati più *basic*, e pertanto ricevono uno score di basicness più alto."
   ]
  },
  {
   "cell_type": "code",
   "execution_count": 3,
   "metadata": {},
   "outputs": [],
   "source": [
    "base_concept = {\n",
    "    'n': wordnet.synset('entity.n.01'),\n",
    "    'v': wordnet.synset('act.v.01'),\n",
    "    'a': wordnet.synset('good.a.01'),\n",
    "    'r': wordnet.synset('well.r.01')\n",
    "}"
   ]
  },
  {
   "cell_type": "code",
   "execution_count": 4,
   "metadata": {},
   "outputs": [],
   "source": [
    "def compute_similarity_LCH(synset, postag, base_concept):\n",
    "    concept_base = base_concept[postag]\n",
    "    \n",
    "    lch_similarity = concept_base.lch_similarity(synset)\n",
    "    \n",
    "    min_value = 0.0\n",
    "    max_value = concept_base.lch_similarity(concept_base) # massimo valore possibile per LCH similarity (3.6375861597263857)\n",
    "    normalized_lch_similarity = (lch_similarity - min_value) / (max_value - min_value)\n",
    "    \n",
    "    return lch_similarity, normalized_lch_similarity"
   ]
  },
  {
   "cell_type": "markdown",
   "metadata": {},
   "source": [
    "## Calcolo vicinanza LCH dei synset"
   ]
  },
  {
   "cell_type": "code",
   "execution_count": 5,
   "metadata": {},
   "outputs": [],
   "source": [
    "def compute_synsets_similarity():\n",
    "    synset_similarity_dict = {}\n",
    "    \n",
    "    for pos in SUPPORTED_POS:\n",
    "        for synset in wordnet.all_synsets(pos):\n",
    "            \n",
    "            try:\n",
    "                if synset in SYNSET_DA_EVITARE or synset.pos() == 's':\n",
    "                    continue  \n",
    "                \n",
    "                lch_similarity, normalized_lch_similarity = compute_similarity_LCH(synset, pos, base_concept)\n",
    "                \n",
    "                synset_similarity_dict[synset] = lch_similarity, normalized_lch_similarity\n",
    "            \n",
    "            except StopIteration:\n",
    "                break\n",
    "            \n",
    "    return synset_similarity_dict"
   ]
  },
  {
   "cell_type": "code",
   "execution_count": 6,
   "metadata": {},
   "outputs": [],
   "source": [
    "synset_similarity_dict = compute_synsets_similarity()"
   ]
  },
  {
   "cell_type": "code",
   "execution_count": 7,
   "metadata": {},
   "outputs": [],
   "source": [
    "data_df = {\n",
    "    'Synset': [str(key) for key in synset_similarity_dict.keys()],\n",
    "    'LCH Similarity': [item[0] for item in synset_similarity_dict.values()],\n",
    "    'Normalized LCH Similarity': [item[1] for item in synset_similarity_dict.values()]\n",
    "}\n",
    "df_similarity = pd.DataFrame(data_df)"
   ]
  },
  {
   "cell_type": "markdown",
   "metadata": {},
   "source": [
    "## Similarità di un synset specifico"
   ]
  },
  {
   "cell_type": "code",
   "execution_count": 8,
   "metadata": {},
   "outputs": [
    {
     "name": "stdout",
     "output_type": "stream",
     "text": [
      "1.6916760106710724\n",
      "0.4650545544186692\n"
     ]
    }
   ],
   "source": [
    "synset = wordnet.synset('animal.n.01')\n",
    "similarity_dict = synset_similarity_dict.get(synset, 'Synset non classificato')\n",
    "sim = similarity_dict[0]\n",
    "sim_norm = similarity_dict[1]\n",
    "print(sim)\n",
    "print(sim_norm)"
   ]
  },
  {
   "cell_type": "markdown",
   "metadata": {},
   "source": [
    "## Salvataggio su file"
   ]
  },
  {
   "cell_type": "code",
   "execution_count": 9,
   "metadata": {},
   "outputs": [],
   "source": [
    "path_output = \"../features/df/\"\n",
    "df_file_output = path_output + 'df_similarity.csv'\n",
    "df_similarity.to_csv(df_file_output, index=False)"
   ]
  },
  {
   "cell_type": "markdown",
   "metadata": {},
   "source": [
    "# Risultati ottenuti"
   ]
  },
  {
   "cell_type": "code",
   "execution_count": 10,
   "metadata": {},
   "outputs": [
    {
     "name": "stdout",
     "output_type": "stream",
     "text": [
      "                           Synset  LCH Similarity  Normalized LCH Similarity\n",
      "0           Synset('entity.n.01')        3.637586                   1.000000\n",
      "1  Synset('physical_entity.n.01')        2.944439                   0.809449\n",
      "2      Synset('abstraction.n.06')        2.944439                   0.809449\n",
      "3            Synset('thing.n.12')        2.538974                   0.697983\n",
      "4           Synset('object.n.01')        2.538974                   0.697983\n",
      "5            Synset('whole.n.02')        2.251292                   0.618897\n",
      "6         Synset('congener.n.03')        2.028148                   0.557553\n",
      "7     Synset('living_thing.n.01')        2.028148                   0.557553\n",
      "8         Synset('organism.n.01')        1.845827                   0.507432\n",
      "9          Synset('benthos.n.02')        1.691676                   0.465055\n"
     ]
    }
   ],
   "source": [
    "print(df_similarity[:10])"
   ]
  }
 ],
 "metadata": {
  "kernelspec": {
   "display_name": "Python 3",
   "language": "python",
   "name": "python3"
  },
  "language_info": {
   "codemirror_mode": {
    "name": "ipython",
    "version": 3
   },
   "file_extension": ".py",
   "mimetype": "text/x-python",
   "name": "python",
   "nbconvert_exporter": "python",
   "pygments_lexer": "ipython3",
   "version": "3.11.3"
  },
  "orig_nbformat": 4
 },
 "nbformat": 4,
 "nbformat_minor": 2
}
