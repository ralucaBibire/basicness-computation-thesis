{
 "cells": [
  {
   "cell_type": "markdown",
   "metadata": {},
   "source": [
    "# CBT corpus\n",
    "\n",
    "Verifica presenza synset nel CHILDREN’S BOOKS corpus\n",
    "- THE GOLDILOCKS PRINCIPLE: READING CHILDREN’S BOOKS WITH EXPLICIT MEMORY REPRESENTATIONS (https://arxiv.org/pdf/1511.02301.pdf)\n",
    "- https://evilscript.eu/upload/files/CBTest.tgz"
   ]
  },
  {
   "cell_type": "markdown",
   "metadata": {},
   "source": [
    "## Utilities"
   ]
  },
  {
   "cell_type": "code",
   "execution_count": 1,
   "metadata": {},
   "outputs": [],
   "source": [
    "import nltk\n",
    "from nltk.corpus import wordnet\n",
    "import pandas as pd"
   ]
  },
  {
   "cell_type": "code",
   "execution_count": 2,
   "metadata": {},
   "outputs": [],
   "source": [
    "import sys\n",
    "sys.path.insert(0, '../../')\n",
    "from commons_init import SYNSET_DA_EVITARE, SUPPORTED_POS"
   ]
  },
  {
   "cell_type": "markdown",
   "metadata": {},
   "source": [
    "### Corpus"
   ]
  },
  {
   "cell_type": "code",
   "execution_count": 3,
   "metadata": {},
   "outputs": [],
   "source": [
    "words_list_file = './CB_corpus/CBTestData_Preprocessed_words.txt'"
   ]
  },
  {
   "cell_type": "code",
   "execution_count": 4,
   "metadata": {},
   "outputs": [],
   "source": [
    "WORDS_LIST = []\n",
    "with open(words_list_file, \"r\") as file:\n",
    "    for line in file:\n",
    "        WORDS_LIST.append(line.strip())"
   ]
  },
  {
   "cell_type": "code",
   "execution_count": 5,
   "metadata": {},
   "outputs": [
    {
     "name": "stdout",
     "output_type": "stream",
     "text": [
      "['pampering', 'convened', 'bristled', 'choo', 'horseboys', 'partibus', 'noisy', 'fellowcriminal', 'commandment', 'patrimony']\n"
     ]
    }
   ],
   "source": [
    "print(WORDS_LIST[:10])"
   ]
  },
  {
   "cell_type": "markdown",
   "metadata": {},
   "source": [
    "## Verifica presenza synset nel CB corpus"
   ]
  },
  {
   "cell_type": "code",
   "execution_count": 6,
   "metadata": {},
   "outputs": [],
   "source": [
    "def check_synset_in_cb_corpus():\n",
    "    synset_check_dict = {}\n",
    "    \n",
    "    for pos in SUPPORTED_POS:\n",
    "        for synset in wordnet.all_synsets(pos):\n",
    "            check = False\n",
    "            \n",
    "            try:\n",
    "                if synset in SYNSET_DA_EVITARE or synset.pos() == 's':\n",
    "                    continue\n",
    "\n",
    "                synset_name = synset.lemmas()[0].name()\n",
    "                synset_name = synset_name.replace('_', ' ') if '_' in synset_name else synset_name\n",
    "                \n",
    "                if synset_name in WORDS_LIST:\n",
    "                    check = True\n",
    "                \n",
    "                synset_check_dict[synset] = check\n",
    "            \n",
    "            except StopIteration:\n",
    "                break\n",
    "            \n",
    "    return synset_check_dict"
   ]
  },
  {
   "cell_type": "code",
   "execution_count": 7,
   "metadata": {},
   "outputs": [],
   "source": [
    "synset_check_dict = check_synset_in_cb_corpus()"
   ]
  },
  {
   "cell_type": "code",
   "execution_count": 8,
   "metadata": {},
   "outputs": [
    {
     "name": "stdout",
     "output_type": "stream",
     "text": [
      "{Synset('entity.n.01'): True, Synset('physical_entity.n.01'): False, Synset('abstraction.n.06'): True, Synset('thing.n.12'): True, Synset('object.n.01'): True, Synset('whole.n.02'): True, Synset('congener.n.03'): False, Synset('living_thing.n.01'): False, Synset('organism.n.01'): False, Synset('benthos.n.02'): False}\n"
     ]
    }
   ],
   "source": [
    "primi_10_valori = {k: synset_check_dict[k] for k in list(synset_check_dict)[:10]}\n",
    "print(primi_10_valori)"
   ]
  },
  {
   "cell_type": "code",
   "execution_count": 9,
   "metadata": {},
   "outputs": [],
   "source": [
    "data_df = {\n",
    "    'Synset': [str(key) for key in synset_check_dict.keys()],\n",
    "    'In CBT': [item for item in synset_check_dict.values()],\n",
    "}\n",
    "df = pd.DataFrame(data_df)"
   ]
  },
  {
   "cell_type": "code",
   "execution_count": 10,
   "metadata": {},
   "outputs": [],
   "source": [
    "path_output = \"../../features/df/\"\n",
    "df_file_output = path_output + 'df_check_in_cbt.csv'\n",
    "df.to_csv(df_file_output, index=False)"
   ]
  },
  {
   "cell_type": "code",
   "execution_count": 11,
   "metadata": {},
   "outputs": [
    {
     "name": "stdout",
     "output_type": "stream",
     "text": [
      "                           Synset  In CBT\n",
      "0           Synset('entity.n.01')    True\n",
      "1  Synset('physical_entity.n.01')   False\n",
      "2      Synset('abstraction.n.06')    True\n",
      "3            Synset('thing.n.12')    True\n",
      "4           Synset('object.n.01')    True\n",
      "5            Synset('whole.n.02')    True\n",
      "6         Synset('congener.n.03')   False\n",
      "7     Synset('living_thing.n.01')   False\n",
      "8         Synset('organism.n.01')   False\n",
      "9          Synset('benthos.n.02')   False\n"
     ]
    }
   ],
   "source": [
    "print(df[:10])"
   ]
  }
 ],
 "metadata": {
  "kernelspec": {
   "display_name": "Python 3",
   "language": "python",
   "name": "python3"
  },
  "language_info": {
   "codemirror_mode": {
    "name": "ipython",
    "version": 3
   },
   "file_extension": ".py",
   "mimetype": "text/x-python",
   "name": "python",
   "nbconvert_exporter": "python",
   "pygments_lexer": "ipython3",
   "version": "3.11.3"
  }
 },
 "nbformat": 4,
 "nbformat_minor": 2
}
