{
 "cells": [
  {
   "cell_type": "markdown",
   "metadata": {},
   "source": [
    "# Utilities"
   ]
  },
  {
   "cell_type": "code",
   "execution_count": 11,
   "metadata": {},
   "outputs": [],
   "source": [
    "import nltk\n",
    "from nltk.corpus import wordnet\n",
    "import pandas as pd"
   ]
  },
  {
   "cell_type": "code",
   "execution_count": 12,
   "metadata": {},
   "outputs": [],
   "source": [
    "import sys\n",
    "sys.path.insert(0, '../')\n",
    "from commons_init import SYNSET_DA_EVITARE, SUPPORTED_POS"
   ]
  },
  {
   "cell_type": "markdown",
   "metadata": {},
   "source": [
    "## Profondità massima synset\n",
    "- Una profondità maggiore indica che il synset è più specifico, mentre una profondità **minore** indica che è **più generico o astratto**. \n",
    "- Synset più vicini alla radice vengono considerati più *basic* rispetto a quelli più specifici.\n",
    "    \n",
    "- *min_depth()* vs *max_depth()*\n",
    "    - Se si lavora su un problema in cui si desidera enfatizzare quanto un concetto sia generico o comune, allora *min_depth* potrebbe essere più appropriato.\n",
    "        - Il nostro goal è enfatizzare quanto un concetto sia generico quindi è stata utilizzata *min_depth*.\n",
    "    - Se si lavora su un problema in cui si desidera enfatizzare quanto un concetto sia specifico, allora *max_depth* potrebbe essere più appropriato.\n",
    "        - *max_depth* è stata utilizzata per calcolare la profondità massima in WN.\n",
    "\n",
    "- Lo score di profondità normalizzato sarà tanto più alto tanto più sarà bassa la profondità del synset."
   ]
  },
  {
   "cell_type": "code",
   "execution_count": 13,
   "metadata": {},
   "outputs": [],
   "source": [
    "MAX_DEPTH_IN_WN = max(synset.max_depth() for synset in wordnet.all_synsets())\n",
    "# print(MAX_DEPTH_IN_WN)"
   ]
  },
  {
   "cell_type": "markdown",
   "metadata": {},
   "source": [
    "1. Vado a prendere la profondità minima del synset nella gerarchia.\n",
    "2. Normalizzo lo score:\n",
    "    - 1 - (...) perchè voglio dare uno score maggiore ai synset con profondità minore"
   ]
  },
  {
   "cell_type": "code",
   "execution_count": 14,
   "metadata": {},
   "outputs": [],
   "source": [
    "# get_synset_depth() mi restituisce_\n",
    "# - 1 se il valore è più generico (basic), quindi se ha profondità minore\n",
    "# - 0 se è specifico (advanced), quindi se ha profondità maggiore\n",
    "def get_synset_depth(synset):\n",
    "    depth = synset.min_depth()\n",
    "    \n",
    "    # Normalizzazione\n",
    "    depth_score = 1 - (depth / MAX_DEPTH_IN_WN)\n",
    "\n",
    "    return depth, depth_score"
   ]
  },
  {
   "cell_type": "markdown",
   "metadata": {},
   "source": [
    "## Calcolo profondità dei synset"
   ]
  },
  {
   "cell_type": "code",
   "execution_count": 15,
   "metadata": {},
   "outputs": [],
   "source": [
    "def compute_synsets_depths():\n",
    "    synset_depth_dict = {}\n",
    "    \n",
    "    for pos in SUPPORTED_POS:\n",
    "        for synset in wordnet.all_synsets(pos):\n",
    "            \n",
    "            try:\n",
    "                if synset in SYNSET_DA_EVITARE or synset.pos() == 's':\n",
    "                    continue\n",
    "\n",
    "                synset_depth, norm_depth_score = get_synset_depth(synset)\n",
    "                \n",
    "                synset_depth_dict[synset] = synset_depth, norm_depth_score\n",
    "            \n",
    "            except StopIteration:\n",
    "                break\n",
    "            \n",
    "    return synset_depth_dict"
   ]
  },
  {
   "cell_type": "code",
   "execution_count": 16,
   "metadata": {},
   "outputs": [],
   "source": [
    "synset_depth_dict = compute_synsets_depths()"
   ]
  },
  {
   "cell_type": "code",
   "execution_count": 17,
   "metadata": {},
   "outputs": [],
   "source": [
    "data_df = {\n",
    "    'Synset': [str(key) for key in synset_depth_dict.keys()],\n",
    "    'Depth': [item[0] for item in synset_depth_dict.values()],\n",
    "    'Normalized Depth': [item[1] for item in synset_depth_dict.values()]\n",
    "}\n",
    "df_depths = pd.DataFrame(data_df)"
   ]
  },
  {
   "cell_type": "markdown",
   "metadata": {},
   "source": [
    "## Profondità di un synset specifico"
   ]
  },
  {
   "cell_type": "code",
   "execution_count": 18,
   "metadata": {},
   "outputs": [
    {
     "name": "stdout",
     "output_type": "stream",
     "text": [
      "6\n",
      "0.6842105263157895\n"
     ]
    }
   ],
   "source": [
    "synset = wordnet.synset('animal.n.01')\n",
    "freq_dict = synset_depth_dict.get(synset, 'Synset non classificato')\n",
    "depth = freq_dict[0]\n",
    "depth_norm = freq_dict[1]\n",
    "print(depth)\n",
    "print(depth_norm)"
   ]
  },
  {
   "cell_type": "markdown",
   "metadata": {},
   "source": [
    "## Salvataggio su file"
   ]
  },
  {
   "cell_type": "code",
   "execution_count": 19,
   "metadata": {},
   "outputs": [],
   "source": [
    "path_output = \"../features/df/\"\n",
    "df_file_output = path_output + 'df_depths.csv'\n",
    "df_depths.to_csv(df_file_output, index=False)"
   ]
  },
  {
   "cell_type": "markdown",
   "metadata": {},
   "source": [
    "# Risultati ottenuti"
   ]
  },
  {
   "cell_type": "code",
   "execution_count": 20,
   "metadata": {},
   "outputs": [
    {
     "name": "stdout",
     "output_type": "stream",
     "text": [
      "                           Synset  Depth  Normalized Depth\n",
      "0           Synset('entity.n.01')      0          1.000000\n",
      "1  Synset('physical_entity.n.01')      1          0.947368\n",
      "2      Synset('abstraction.n.06')      1          0.947368\n",
      "3            Synset('thing.n.12')      2          0.894737\n",
      "4           Synset('object.n.01')      2          0.894737\n",
      "5            Synset('whole.n.02')      3          0.842105\n",
      "6         Synset('congener.n.03')      4          0.789474\n",
      "7     Synset('living_thing.n.01')      4          0.789474\n",
      "8         Synset('organism.n.01')      5          0.736842\n",
      "9          Synset('benthos.n.02')      6          0.684211\n"
     ]
    }
   ],
   "source": [
    "print(df_depths[:10])"
   ]
  }
 ],
 "metadata": {
  "kernelspec": {
   "display_name": "Python 3",
   "language": "python",
   "name": "python3"
  },
  "language_info": {
   "codemirror_mode": {
    "name": "ipython",
    "version": 3
   },
   "file_extension": ".py",
   "mimetype": "text/x-python",
   "name": "python",
   "nbconvert_exporter": "python",
   "pygments_lexer": "ipython3",
   "version": "3.11.3"
  },
  "orig_nbformat": 4
 },
 "nbformat": 4,
 "nbformat_minor": 2
}
