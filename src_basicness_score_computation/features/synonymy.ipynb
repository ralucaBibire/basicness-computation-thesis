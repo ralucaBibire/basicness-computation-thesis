{
 "cells": [
  {
   "cell_type": "markdown",
   "metadata": {},
   "source": [
    "# Utilities"
   ]
  },
  {
   "cell_type": "code",
   "execution_count": 1,
   "metadata": {},
   "outputs": [],
   "source": [
    "import nltk\n",
    "from nltk.corpus import wordnet\n",
    "import pandas as pd"
   ]
  },
  {
   "cell_type": "code",
   "execution_count": 2,
   "metadata": {},
   "outputs": [],
   "source": [
    "import sys\n",
    "sys.path.insert(0, '../')\n",
    "from commons_init import SYNSET_DA_EVITARE, SUPPORTED_POS"
   ]
  },
  {
   "cell_type": "markdown",
   "metadata": {},
   "source": [
    "## Sinonimia\n",
    "Synset con un numero inferiore di sinonimi saranno considerati più *basic* rispetto a quelli con un numero maggiore di sinonimi. Quindi un termine è più basic se ha un basso score di sinonimia.\n",
    "- Conteggio dei sinonimi di un synset.\n",
    "- I sinonimi di un synset sono i lemmi che compongono quel synset.\n",
    "- La feature della sinonimia è stata interpretata come outlier feature."
   ]
  },
  {
   "cell_type": "code",
   "execution_count": 3,
   "metadata": {},
   "outputs": [],
   "source": [
    "def get_min_max_synonymy_in_wn():\n",
    "    min_synonymy = float('inf')\n",
    "    max_synonymy = 0\n",
    "    for synset in wordnet.all_synsets():\n",
    "        num_synonyms = len(synset.lemmas())\n",
    "        min_synonymy = min(min_synonymy, num_synonyms)\n",
    "        max_synonymy = max(max_synonymy, num_synonyms)\n",
    "    return min_synonymy, max_synonymy"
   ]
  },
  {
   "cell_type": "code",
   "execution_count": 4,
   "metadata": {},
   "outputs": [
    {
     "name": "stdout",
     "output_type": "stream",
     "text": [
      "Valore minimo di sinonimia: 1\n",
      "Valore massimo di sinonimia: 28\n"
     ]
    }
   ],
   "source": [
    "MIN_SYNONYMY_COUNT, MAX_SYNONYMY_COUNT = get_min_max_synonymy_in_wn()\n",
    "print('Valore minimo di sinonimia:', MIN_SYNONYMY_COUNT)\n",
    "print('Valore massimo di sinonimia:', MAX_SYNONYMY_COUNT)"
   ]
  },
  {
   "cell_type": "code",
   "execution_count": 5,
   "metadata": {},
   "outputs": [],
   "source": [
    "def get_synset_synonymy(synset):\n",
    "    lemma_names = [lemma.name() for lemma in synset.lemmas()]\n",
    "    synonymy_count = len(lemma_names)\n",
    "    normalized_synonymy_count = 1 - (synonymy_count - MIN_SYNONYMY_COUNT) / (MAX_SYNONYMY_COUNT - MIN_SYNONYMY_COUNT)\n",
    "    return synonymy_count, normalized_synonymy_count"
   ]
  },
  {
   "cell_type": "code",
   "execution_count": 6,
   "metadata": {},
   "outputs": [
    {
     "name": "stdout",
     "output_type": "stream",
     "text": [
      "synonymy_count: 3\n",
      "normalized_synonymy_count: 0.9259259259259259\n"
     ]
    }
   ],
   "source": [
    "base_concept = wordnet.synset('dog.n.01')\n",
    "synonymy_count, normalized_synonymy_count = get_synset_synonymy(base_concept)\n",
    "print('synonymy_count:', synonymy_count)\n",
    "print('normalized_synonymy_count:', normalized_synonymy_count)"
   ]
  },
  {
   "cell_type": "markdown",
   "metadata": {},
   "source": [
    "## Calcolo sinonimia dei synset"
   ]
  },
  {
   "cell_type": "code",
   "execution_count": 7,
   "metadata": {},
   "outputs": [],
   "source": [
    "def compute_synsets_synonymy():\n",
    "    synset_synonymy_dict = {}\n",
    "    \n",
    "    for pos in SUPPORTED_POS:\n",
    "        for synset in wordnet.all_synsets(pos):\n",
    "            \n",
    "            try:\n",
    "                if synset in SYNSET_DA_EVITARE or synset.pos() == 's':\n",
    "                    continue\n",
    "                \n",
    "                synset_synonymy, norm_synonymy_score = get_synset_synonymy(synset)\n",
    "                \n",
    "                synset_synonymy_dict[synset] = synset_synonymy, norm_synonymy_score\n",
    "            \n",
    "            except StopIteration:\n",
    "                break\n",
    "            \n",
    "    return synset_synonymy_dict"
   ]
  },
  {
   "cell_type": "code",
   "execution_count": 8,
   "metadata": {},
   "outputs": [],
   "source": [
    "synset_synonymy_dict = compute_synsets_synonymy()"
   ]
  },
  {
   "cell_type": "code",
   "execution_count": 9,
   "metadata": {},
   "outputs": [],
   "source": [
    "data_df = {\n",
    "    'Synset': [str(key) for key in synset_synonymy_dict.keys()],\n",
    "    'Synonymy': [item[0] for item in synset_synonymy_dict.values()],\n",
    "    'Normalized Synonymy': [item[1] for item in synset_synonymy_dict.values()]\n",
    "}\n",
    "df_synonymy = pd.DataFrame(data_df)"
   ]
  },
  {
   "cell_type": "markdown",
   "metadata": {},
   "source": [
    "## Sinonimia di un synset specifico"
   ]
  },
  {
   "cell_type": "code",
   "execution_count": 10,
   "metadata": {},
   "outputs": [
    {
     "name": "stdout",
     "output_type": "stream",
     "text": [
      "6\n",
      "0.8148148148148149\n"
     ]
    }
   ],
   "source": [
    "synset = wordnet.synset('animal.n.01')\n",
    "synonymy_dict = synset_synonymy_dict.get(synset, 'Synset non classificato')\n",
    "synonymy = synonymy_dict[0]\n",
    "synonymy_norm = synonymy_dict[1]\n",
    "print(synonymy)\n",
    "print(synonymy_norm)"
   ]
  },
  {
   "cell_type": "markdown",
   "metadata": {},
   "source": [
    "## Salvataggio su file"
   ]
  },
  {
   "cell_type": "code",
   "execution_count": 11,
   "metadata": {},
   "outputs": [],
   "source": [
    "path_output = \"../features/df/\"\n",
    "df_file_output = path_output + 'df_synonymy.csv'\n",
    "df_synonymy.to_csv(df_file_output, index=False)"
   ]
  },
  {
   "cell_type": "markdown",
   "metadata": {},
   "source": [
    "# Risultati ottenuti"
   ]
  },
  {
   "cell_type": "code",
   "execution_count": 12,
   "metadata": {},
   "outputs": [
    {
     "name": "stdout",
     "output_type": "stream",
     "text": [
      "                           Synset  Synonymy  Normalized Synonymy\n",
      "0           Synset('entity.n.01')         1             1.000000\n",
      "1  Synset('physical_entity.n.01')         1             1.000000\n",
      "2      Synset('abstraction.n.06')         2             0.962963\n",
      "3            Synset('thing.n.12')         1             1.000000\n",
      "4           Synset('object.n.01')         2             0.962963\n",
      "5            Synset('whole.n.02')         2             0.962963\n",
      "6         Synset('congener.n.03')         1             1.000000\n",
      "7     Synset('living_thing.n.01')         2             0.962963\n",
      "8         Synset('organism.n.01')         2             0.962963\n",
      "9          Synset('benthos.n.02')         1             1.000000\n"
     ]
    }
   ],
   "source": [
    "print(df_synonymy[:10])"
   ]
  },
  {
   "cell_type": "markdown",
   "metadata": {},
   "source": [
    "## Primi 10 synset con valore di sinonimia DECRESCENTE (che hanno quindi PIÙ sinonimi)"
   ]
  },
  {
   "cell_type": "code",
   "execution_count": 13,
   "metadata": {},
   "outputs": [
    {
     "name": "stdout",
     "output_type": "stream",
     "text": [
      "                           Synset  Synonymy  Normalized Synonymy\n",
      "30587     Synset('buttocks.n.01')        28             0.000000\n",
      "73749        Synset('batch.n.02')        27             0.037037\n",
      "71515       Synset('boodle.n.01')        19             0.333333\n",
      "73556        Synset('three.n.01')        18             0.370370\n",
      "17485       Synset('doodad.n.01')        18             0.370370\n",
      "32405       Synset('kernel.n.03')        16             0.444444\n",
      "35776        Synset('adieu.n.01')        15             0.481481\n",
      "59405  Synset('dostoyevsky.n.01')        15             0.481481\n",
      "41894       Synset('bomber.n.03')        15             0.481481\n",
      "52511          Synset('ace.n.03')        15             0.481481\n"
     ]
    }
   ],
   "source": [
    "df_sorted = df_synonymy.sort_values(by='Synonymy', ascending=False)\n",
    "print(df_sorted[:10])"
   ]
  },
  {
   "cell_type": "markdown",
   "metadata": {},
   "source": [
    "## Primi 10 synset con valore di sinonimia CRESCENTE (che hanno quindi MENO sinonimi)"
   ]
  },
  {
   "cell_type": "code",
   "execution_count": 14,
   "metadata": {},
   "outputs": [
    {
     "name": "stdout",
     "output_type": "stream",
     "text": [
      "                             Synset  Synonymy  Normalized Synonymy\n",
      "0             Synset('entity.n.01')         1                  1.0\n",
      "43703        Synset('trilogy.n.01')         1                  1.0\n",
      "43704           Synset('room.n.04')         1                  1.0\n",
      "43707      Synset('trip_wire.n.01')         1                  1.0\n",
      "43708       Synset('trimurti.n.01')         1                  1.0\n",
      "43710    Synset('triumvirate.n.01')         1                  1.0\n",
      "43711         Synset('troika.n.03')         1                  1.0\n",
      "43712        Synset('turnout.n.01')         1                  1.0\n",
      "43718  Synset('quadrumvirate.n.01')         1                  1.0\n",
      "43726   Synset('power_couple.n.01')         1                  1.0\n"
     ]
    }
   ],
   "source": [
    "df_sorted = df_synonymy.sort_values(by='Synonymy', ascending=True)\n",
    "print(df_sorted[:10])"
   ]
  }
 ],
 "metadata": {
  "kernelspec": {
   "display_name": "Python 3",
   "language": "python",
   "name": "python3"
  },
  "language_info": {
   "codemirror_mode": {
    "name": "ipython",
    "version": 3
   },
   "file_extension": ".py",
   "mimetype": "text/x-python",
   "name": "python",
   "nbconvert_exporter": "python",
   "pygments_lexer": "ipython3",
   "version": "3.11.3"
  },
  "orig_nbformat": 4
 },
 "nbformat": 4,
 "nbformat_minor": 2
}
